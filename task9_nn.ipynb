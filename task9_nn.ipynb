{
 "cells": [
  {
   "cell_type": "markdown",
   "metadata": {
    "id": "alvOhaG_Y8w5"
   },
   "source": [
    "# Знакомство с pytorch (5 баллов)"
   ]
  },
  {
   "cell_type": "code",
   "execution_count": 24,
   "metadata": {
    "id": "jDDd8zvPY8w_",
    "scrolled": true
   },
   "outputs": [],
   "source": [
    "import torch\n",
    "import numpy as np"
   ]
  },
  {
   "cell_type": "code",
   "execution_count": 25,
   "metadata": {
    "colab": {
     "base_uri": "https://localhost:8080/"
    },
    "executionInfo": {
     "elapsed": 19,
     "status": "ok",
     "timestamp": 1699643388056,
     "user": {
      "displayName": "Иван Капранов",
      "userId": "03211624233193923671"
     },
     "user_tz": -180
    },
    "id": "W_ru21cQY8xK",
    "outputId": "4e8fb0bc-291b-4e3c-f35e-feab65ce6e15"
   },
   "outputs": [
    {
     "name": "stdout",
     "output_type": "stream",
     "text": [
      "X :\n",
      " [[ 0  1  2  3]\n",
      " [ 4  5  6  7]\n",
      " [ 8  9 10 11]\n",
      " [12 13 14 15]]\n",
      "add 5 :\n",
      "[[ 5  6  7  8]\n",
      " [ 9 10 11 12]\n",
      " [13 14 15 16]\n",
      " [17 18 19 20]]\n",
      "X*X^T  :\n",
      " [[ 14  38  62  86]\n",
      " [ 38 126 214 302]\n",
      " [ 62 214 366 518]\n",
      " [ 86 302 518 734]]\n",
      "mean over cols :\n",
      "[ 1.5  5.5  9.5 13.5]\n",
      "cumsum of cols :\n",
      "[[ 0  1  2  3]\n",
      " [ 4  6  8 10]\n",
      " [12 15 18 21]\n",
      " [24 28 32 36]]\n"
     ]
    }
   ],
   "source": [
    "# numpy world\n",
    "\n",
    "x = np.arange(16).reshape(4, 4)\n",
    "\n",
    "print(\"X :\\n %s\" % x)\n",
    "print(\"add 5 :\\n%s\" % (x + 5))\n",
    "print(\"X*X^T  :\\n\", np.dot(x, x.T))\n",
    "print(\"mean over cols :\\n%s\" % (x.mean(axis=-1)))\n",
    "print(\"cumsum of cols :\\n%s\" % (np.cumsum(x, axis=0)))"
   ]
  },
  {
   "cell_type": "code",
   "execution_count": 26,
   "metadata": {
    "colab": {
     "base_uri": "https://localhost:8080/"
    },
    "executionInfo": {
     "elapsed": 11,
     "status": "ok",
     "timestamp": 1699643388056,
     "user": {
      "displayName": "Иван Капранов",
      "userId": "03211624233193923671"
     },
     "user_tz": -180
    },
    "id": "_NqOKnrFY8xQ",
    "outputId": "65f66f78-415b-460b-b158-502f86390101"
   },
   "outputs": [
    {
     "name": "stdout",
     "output_type": "stream",
     "text": [
      "X :\n",
      "tensor([[ 0.,  1.,  2.,  3.],\n",
      "        [ 4.,  5.,  6.,  7.],\n",
      "        [ 8.,  9., 10., 11.],\n",
      "        [12., 13., 14., 15.]])\n",
      "add 5 :\n",
      "tensor([[ 5.,  6.,  7.,  8.],\n",
      "        [ 9., 10., 11., 12.],\n",
      "        [13., 14., 15., 16.],\n",
      "        [17., 18., 19., 20.]])\n",
      "X*X^T  :\n",
      " tensor([[ 14.,  38.,  62.,  86.],\n",
      "        [ 38., 126., 214., 302.],\n",
      "        [ 62., 214., 366., 518.],\n",
      "        [ 86., 302., 518., 734.]])\n",
      "mean over cols :\n",
      " tensor([ 1.5000,  5.5000,  9.5000, 13.5000])\n",
      "cumsum of cols :\n",
      " tensor([[ 0.,  1.,  2.,  3.],\n",
      "        [ 4.,  6.,  8., 10.],\n",
      "        [12., 15., 18., 21.],\n",
      "        [24., 28., 32., 36.]])\n"
     ]
    }
   ],
   "source": [
    "# pytorch world\n",
    "\n",
    "x = np.arange(16).reshape(4, 4)\n",
    "\n",
    "x = torch.from_numpy(x).type(torch.FloatTensor) #or torch.arange(0,16).view(4,4)\n",
    "\n",
    "print(\"X :\\n%s\" % x)\n",
    "print(\"add 5 :\\n%s\" % (x + 5))\n",
    "print(\"X*X^T  :\\n\", torch.matmul(x, x.transpose(1, 0)))\n",
    "print(\"mean over cols :\\n\", torch.mean(x, dim=-1))\n",
    "print(\"cumsum of cols :\\n\", torch.cumsum(x, dim=0))"
   ]
  },
  {
   "cell_type": "markdown",
   "metadata": {
    "id": "lxJiOWdJY8xW"
   },
   "source": [
    "## NumPy vs Pytorch\n",
    "\n",
    "Numpy и Pytorch не требуют описания статического графа вычислений.\n",
    "\n",
    "Можно отлаживаться с помощью pdb или просто print.\n",
    "\n",
    "API несколько различается:\n",
    "\n",
    "```\n",
    "x.reshape([1,2,8]) -> x.view(1,2,8)\n",
    "x.sum(axis=-1) -> x.sum(dim=-1)\n",
    "x.astype('int64') -> x.type(torch.int64)\n",
    "```\n",
    "\n",
    "\n",
    "Легко конвертировать между собой:\n",
    "\n",
    "```\n",
    "torch.from_numpy(npx) -- вернет Tensor\n",
    "tt.numpy() -- вернет Numpy Array\n",
    "```\n",
    "\n",
    "Преобразовать тензор из одного числа в обычное питоновское число:\n",
    "```\n",
    "torch.tensor([1]).item() -> 1\n",
    "```\n",
    "\n",
    "\n",
    "Если что:\n",
    "- смотрите документацию https://pytorch.org/docs/\n",
    "- гуглите (Stackoverflow/tutorials)"
   ]
  },
  {
   "cell_type": "markdown",
   "metadata": {
    "id": "HAVLDMj_ou7t"
   },
   "source": [
    "Давайте кое что посчитаем\n",
    "\n",
    "$$ x(t) = t - 1.5 * cos( 15 t) $$\n",
    "$$ y(t) = t - 1.5 * sin( 16 t) $$\n"
   ]
  },
  {
   "cell_type": "code",
   "execution_count": 27,
   "metadata": {
    "id": "kWKDglA_Y8xX",
    "outputId": "35480c7e-a728-44ea-e75d-659ba2b7468a"
   },
   "outputs": [
    {
     "data": {
      "text/plain": [
       "[<matplotlib.lines.Line2D at 0x1a21464dbe0>]"
      ]
     },
     "execution_count": 27,
     "metadata": {},
     "output_type": "execute_result"
    },
    {
     "data": {
      "image/png": "[encoded data removed]",
      "text/plain": [
       "<Figure size 432x288 with 1 Axes>"
      ]
     },
     "metadata": {
      "needs_background": "light"
     },
     "output_type": "display_data"
    }
   ],
   "source": [
    "import matplotlib.pyplot as plt\n",
    "%matplotlib inline\n",
    "\n",
    "t = torch.linspace(-10, 10, steps = 10000)\n",
    "\n",
    "# compute x(t) and y(t) as defined above\n",
    "x = t-1.5*torch.cos(15*t)\n",
    "y = t-1.5*torch.sin(16*t)\n",
    "\n",
    "plt.plot(x.numpy(), y.numpy())"
   ]
  },
  {
   "cell_type": "markdown",
   "metadata": {
    "id": "WvBccGm8Y8xh"
   },
   "source": [
    "# Automatic gradients\n",
    "\n",
    "У каждого тензора в Pytorch есть флаг `requires_grad`, который отвечает за автоматическое вычисление градиентов:\n",
    "\n",
    "1. Создать переменную: `a = torch.tensor(..., requires_grad=True)`\n",
    "\n",
    "2. Определить какую-нибудь дифференцируемую функцию `loss = whatever(a)`\n",
    "\n",
    "3. Запросить обратный проход `loss.backward()`\n",
    "\n",
    "4. Градиенты будут доступны в `a.grads`\n",
    "\n",
    "\n",
    "Есть два важных отличия Pytorch от Theano/TF:\n",
    "\n",
    "1. Функцию ошибки можно изменять динамически, например на каждом минибатче.\n",
    "\n",
    "2. После вычисления `.backward()` градиенты сохраняются в `.grad` каждой задействованной переменной, при повторных вызовах градиенты суммируются. Это позволяет использовать несколько функций ошибок или виртуально увеличивать batch_size. Поэтому, после каждого шага оптимизатора градиенты стоит обнулять.\n",
    "\n",
    "\n",
    "\n",
    "## Leaf vs Non-leaf Variable:\n",
    "```\n",
    "x = torch.tensor([1., 2., 3., 4.], requires_grad=True))  # leaf tensor\n",
    "y = x + 1  # not a leaf variable\n",
    "```\n",
    "\n",
    "Градиенты будут сохранены и доступны для использования только для `leaf tensor`.\n",
    "Такое поведение по-умолчанию сделано ради экономии памяти. Все тензоры с флагом `requires_grad = False` считаются`leaf tensors` по умолчанию.\n",
    "\n",
    "\n",
    "Обратите внимание, что вычисление градиентов работает только для тензоров с вещественным типом данных:"
   ]
  },
  {
   "cell_type": "code",
   "execution_count": 28,
   "metadata": {
    "id": "UCMFdtG1kbKo"
   },
   "outputs": [],
   "source": [
    "# will not work\n",
    "#x = torch.tensor([1, 2, 3, 4], requires_grad=True)"
   ]
  },
  {
   "cell_type": "markdown",
   "metadata": {
    "id": "1zIjcCUJ1T1V"
   },
   "source": [
    "\n",
    "Чтобы выставить флаг `requires_grad=False` и выключить автоматическое вычисление градиентов для нескольких тензоров, можно использовать `with torch.no_grad()` или `detach`:"
   ]
  },
  {
   "cell_type": "code",
   "execution_count": 29,
   "metadata": {
    "id": "1JQjCVpb1Uy1",
    "outputId": "8ce6a9bb-6c2a-4ea5-cd06-e24624163127"
   },
   "outputs": [
    {
     "name": "stdout",
     "output_type": "stream",
     "text": [
      "True\n",
      "True\n",
      "False\n",
      "False\n"
     ]
    }
   ],
   "source": [
    "x = torch.tensor([1.], requires_grad=True)\n",
    "y = x**2\n",
    "print(x.requires_grad)\n",
    "print(y.requires_grad)\n",
    "\n",
    "with torch.no_grad():\n",
    "    z = torch.exp(x)\n",
    "    print(z.requires_grad)\n",
    "\n",
    "# detach from the graph\n",
    "w = torch.log(x).detach()\n",
    "print(w.requires_grad)"
   ]
  },
  {
   "cell_type": "markdown",
   "metadata": {
    "id": "-NHwzSqakbUt"
   },
   "source": [
    "Рассмотрим пример линейной регрессии на датасете Boston"
   ]
  },
  {
   "cell_type": "code",
   "execution_count": 30,
   "metadata": {
    "id": "8sVwJ5DfY8xj",
    "outputId": "509e7fc0-d473-44c5-eacb-8c2a88d88d56"
   },
   "outputs": [
    {
     "name": "stderr",
     "output_type": "stream",
     "text": [
      "C:\\ProgramData\\Anaconda3\\lib\\site-packages\\sklearn\\utils\\deprecation.py:87: FutureWarning: Function load_boston is deprecated; `load_boston` is deprecated in 1.0 and will be removed in 1.2.\n",
      "\n",
      "    The Boston housing prices dataset has an ethical problem. You can refer to\n",
      "    the documentation of this function for further details.\n",
      "\n",
      "    The scikit-learn maintainers therefore strongly discourage the use of this\n",
      "    dataset unless the purpose of the code is to study and educate about\n",
      "    ethical issues in data science and machine learning.\n",
      "\n",
      "    In this special case, you can fetch the dataset from the original\n",
      "    source::\n",
      "\n",
      "        import pandas as pd\n",
      "        import numpy as np\n",
      "\n",
      "        data_url = \"http://lib.stat.cmu.edu/datasets/boston\"\n",
      "        raw_df = pd.read_csv(data_url, sep=\"\\s+\", skiprows=22, header=None)\n",
      "        data = np.hstack([raw_df.values[::2, :], raw_df.values[1::2, :2]])\n",
      "        target = raw_df.values[1::2, 2]\n",
      "\n",
      "    Alternative datasets include the California housing dataset (i.e.\n",
      "    :func:`~sklearn.datasets.fetch_california_housing`) and the Ames housing\n",
      "    dataset. You can load the datasets as follows::\n",
      "\n",
      "        from sklearn.datasets import fetch_california_housing\n",
      "        housing = fetch_california_housing()\n",
      "\n",
      "    for the California housing dataset and::\n",
      "\n",
      "        from sklearn.datasets import fetch_openml\n",
      "        housing = fetch_openml(name=\"house_prices\", as_frame=True)\n",
      "\n",
      "    for the Ames housing dataset.\n",
      "  warnings.warn(msg, category=FutureWarning)\n"
     ]
    },
    {
     "data": {
      "text/plain": [
       "<matplotlib.collections.PathCollection at 0x1a214e02f40>"
      ]
     },
     "execution_count": 30,
     "metadata": {},
     "output_type": "execute_result"
    },
    {
     "data": {
      "image/png": "[encoded data removed]",
      "text/plain": [
       "<Figure size 432x288 with 1 Axes>"
      ]
     },
     "metadata": {
      "needs_background": "light"
     },
     "output_type": "display_data"
    }
   ],
   "source": [
    "%matplotlib inline\n",
    "import matplotlib.pyplot as plt\n",
    "from sklearn.datasets import load_boston\n",
    "\n",
    "x, y = load_boston(return_X_y=True)\n",
    "\n",
    "#select one column for simplicity.\n",
    "x = x[:, -1] / x[:, -1].std()\n",
    "y = y / y.std()\n",
    "\n",
    "plt.scatter(x, y)"
   ]
  },
  {
   "cell_type": "code",
   "execution_count": 31,
   "metadata": {
    "id": "iqXtxfdjY8xr",
    "outputId": "8bc41158-8233-433f-dd1e-54fdea99d433"
   },
   "outputs": [
    {
     "name": "stdout",
     "output_type": "stream",
     "text": [
      "True True\n",
      "True True\n",
      "True False\n",
      "True False\n"
     ]
    }
   ],
   "source": [
    "# model tensors\n",
    "w = torch.zeros(1, requires_grad=True)\n",
    "b = torch.zeros(1, requires_grad=True)\n",
    "\n",
    "# data tensors\n",
    "x = torch.from_numpy(x).type(torch.float)\n",
    "y = torch.from_numpy(y).type(torch.float)\n",
    "\n",
    "# все тензоры являются leaf-tensors\n",
    "# x и y не требуют вычисления градиентов\n",
    "for vv in [w, b, x, y]:\n",
    "    print(vv.is_leaf, vv.requires_grad)"
   ]
  },
  {
   "cell_type": "markdown",
   "metadata": {
    "id": "5qSGyePQY8x-"
   },
   "source": [
    "# Линейная регрессия c помощью pytroch"
   ]
  },
  {
   "cell_type": "code",
   "execution_count": 32,
   "metadata": {
    "id": "mj_-PaVzY8yA",
    "outputId": "9d2190bc-f394-47f8-c044-8e2053dc6787"
   },
   "outputs": [
    {
     "data": {
      "image/png": "[encoded data removed]",
      "text/plain": [
       "<Figure size 432x288 with 1 Axes>"
      ]
     },
     "metadata": {
      "needs_background": "light"
     },
     "output_type": "display_data"
    },
    {
     "name": "stdout",
     "output_type": "stream",
     "text": [
      "loss =  0.49602196\n",
      "Done!\n"
     ]
    }
   ],
   "source": [
    "from IPython.display import clear_output\n",
    "\n",
    "for i in range(1000):\n",
    "\n",
    "    #запишите формулу линейной регрессии с помощью w, x, b\n",
    "    y_pred = w*x+b\n",
    "    #посчитайте MSE с помощью torch.mean, y и переменной в которую вы записали результат строкой выше\n",
    "    loss = torch.mean((y-y_pred)**2)\n",
    "\n",
    "    # backprop\n",
    "    loss.backward()\n",
    "\n",
    "    # вот так руками можно применять градиенты\n",
    "    w.data -= 0.05 * w.grad.data\n",
    "    b.data -= 0.05 * b.grad.data\n",
    "\n",
    "    # обнуляем градиенты руками\n",
    "    w.grad.data.zero_()\n",
    "    b.grad.data.zero_()\n",
    "\n",
    "    # строим графики\n",
    "    if (i+1)%5==0:\n",
    "        clear_output(True)\n",
    "        plt.scatter(x.data.numpy(), y.data.numpy())\n",
    "        plt.scatter(x.data.numpy(), y_pred.data.numpy(), color='orange', linewidth=5)\n",
    "        plt.show()\n",
    "\n",
    "        print(\"loss = \", loss.data.numpy())\n",
    "        if loss.data.numpy() < 0.5:\n",
    "            print(\"Done!\")\n",
    "            break"
   ]
  },
  {
   "cell_type": "markdown",
   "metadata": {
    "id": "DiEVpQBQY8yE"
   },
   "source": [
    "# Optimizers\n",
    "\n",
    "В этом примере мы пользовались простым правилом для градиентного спуска:\n",
    "  \n",
    "$$\\theta^{n+1} = \\theta^{n} - \\alpha \\nabla_{\\theta}L$$\n",
    "\n",
    "\n",
    "Единственным параметром в нем является $\\alpha$ -- это `learning_rate`.\n",
    "\n",
    "На практике часто используют различные модификации (например _Momentum_):\n",
    "\n",
    "$$\\theta^{n+1} = \\theta^{n} - U^{n}\\\\\n",
    "U^{n} = \\gamma U^{n-1} + \\alpha \\nabla_{\\theta}(L)\n",
    "$$\n",
    "\n",
    "Хороший обзор алгоритмов оптимизации для сетей можно посмотреть [тут](http://ruder.io/optimizing-gradient-descent/).\n",
    "\n",
    "\n",
    "\n",
    "Pytorch предоставляет практически все широкораспространненные оптимизаторы:    \n",
    "http://pytorch.org/docs/master/optim.html\n",
    "\n",
    "\n",
    "\n",
    "\n",
    "Оптимизаторы удобны в использовании:\n",
    "\n",
    "- требуется указать список переменных для оптимизации\n",
    "- `opt.step()` применяет `update` ($U^{n}$) к весам\n",
    "- `opt.zero_grad()` сбрасывает градиенты\n",
    "\n",
    "\n",
    "\n"
   ]
  },
  {
   "cell_type": "code",
   "execution_count": 33,
   "metadata": {
    "id": "crmZenu4Y8yF",
    "outputId": "ea27b544-cb19-47ba-d4f2-46520371d6b8"
   },
   "outputs": [
    {
     "data": {
      "image/png": "[encoded data removed]",
      "text/plain": [
       "<Figure size 432x288 with 1 Axes>"
      ]
     },
     "metadata": {
      "needs_background": "light"
     },
     "output_type": "display_data"
    },
    {
     "name": "stdout",
     "output_type": "stream",
     "text": [
      "loss =  0.4629482328891754\n",
      "Done!\n"
     ]
    }
   ],
   "source": [
    "# get data\n",
    "x, y = load_boston(return_X_y=True)\n",
    "x = x[:, -1] / x[:, -1].std()\n",
    "y = y / y.std()\n",
    "\n",
    "# data tensors\n",
    "x = torch.from_numpy(x).type(torch.float)\n",
    "y = torch.from_numpy(y).type(torch.float)\n",
    "\n",
    "# model tensors\n",
    "w = torch.zeros(1, requires_grad=True)\n",
    "b = torch.zeros(1, requires_grad=True)\n",
    "\n",
    "# define optimizer\n",
    "opt = torch.optim.RMSprop([w, b], lr=0.1)\n",
    "\n",
    "for i in range(10000):\n",
    "    # посчитайте ошибку\n",
    "    y_pred = w*x+b\n",
    "    loss = torch.mean((y-y_pred)**2)\n",
    "    # backprop and gradient descent но теперь не руками а с помощью оптимизатора и функци описанных выше\n",
    "    loss.backward()\n",
    "    opt.step()\n",
    "    #\n",
    "    #the rest of code is just bells and whistles\n",
    "    if (i + 1) % 5 == 0:\n",
    "        #draw linear regression prediction vs data\n",
    "        clear_output(True)\n",
    "        plt.axhline(0, color='gray')\n",
    "        plt.axvline(0, color='gray')\n",
    "        plt.scatter(x.numpy(), y.numpy())\n",
    "        plt.plot(x.numpy(), y_pred.data.numpy(), color='orange')\n",
    "        plt.show()\n",
    "\n",
    "        print(\"loss = \", loss.item())\n",
    "        if loss.item() < 0.5:\n",
    "            print(\"Done!\")\n",
    "            break"
   ]
  },
  {
   "cell_type": "markdown",
   "metadata": {
    "id": "vVyfwGuzou7x"
   },
   "source": [
    "# Немного более сложных тензоров (2 балла)\n",
    "\n",
    "$$\\rho(\\theta) = (1 + 0.9 \\cdot cos (8 \\cdot \\theta) ) \\cdot (1 + 0.1 \\cdot cos(24 \\cdot \\theta)) \\cdot (0.9 + 0.05 \\cdot cos(200 \\cdot \\theta)) \\cdot (1 + sin(\\theta))$$"
   ]
  },
  {
   "cell_type": "code",
   "execution_count": 34,
   "metadata": {
    "id": "BA1eG3Loou7x"
   },
   "outputs": [
    {
     "data": {
      "image/png": "[encoded data removed]",
      "text/plain": [
       "<Figure size 432x432 with 1 Axes>"
      ]
     },
     "metadata": {
      "needs_background": "light"
     },
     "output_type": "display_data"
    }
   ],
   "source": [
    "import torch\n",
    "import numpy as np\n",
    "import matplotlib.pyplot as plt\n",
    "%matplotlib inline\n",
    "theta = torch.linspace(- np.pi, np.pi, steps=1000)\n",
    "\n",
    "# compute rho(theta) as per formula above\n",
    "rho = (1 + 0.9 * torch.cos(8*theta))*(1+0.1*torch.cos(24*theta))*(0.9+0.05*torch.cos(200*theta))*(1+torch.sin(theta))\n",
    "\n",
    "x = rho * torch.cos(theta)\n",
    "y = rho * torch.sin(theta)\n",
    "\n",
    "plt.figure(figsize=[6,6])\n",
    "plt.fill(x.numpy(), y.numpy(), color='green')\n",
    "plt.grid()"
   ]
  },
  {
   "cell_type": "markdown",
   "metadata": {
    "collapsed": true,
    "id": "8qoOsLGuY8yK"
   },
   "source": [
    "## Highlevel-API (5 баллов)\n",
    "\n",
    "При работе с нейронными сетями становится неудобно контролировать переменные с весами по-отдельности. Pytorch предоставляет высокоуровневый API для моделей http://pytorch.org/docs/master/nn.html#torch.nn.Module.\n",
    "\n",
    "\n",
    "Чтобы воспользоваться моделью необходимо отнаследоваться от torch.nn.Module, определить слои и описать `forward`, `backward` будет вычислен автоматически.\n",
    "\n",
    "\n",
    "Для демонстрации воспользуемся MNIST'ом."
   ]
  },
  {
   "cell_type": "code",
   "execution_count": 88,
   "metadata": {
    "id": "pP-mINCsY8yL",
    "outputId": "c00290da-a0b7-4161-edfc-6318a14b0541",
    "scrolled": true
   },
   "outputs": [
    {
     "data": {
      "image/png": "[encoded data removed]",
      "text/plain": [
       "<Figure size 432x432 with 4 Axes>"
      ]
     },
     "metadata": {
      "needs_background": "light"
     },
     "output_type": "display_data"
    }
   ],
   "source": [
    "import sys; import pickle; import gzip;\n",
    "f = gzip.open('mnist.pkl.gz', 'rb')\n",
    "if sys.version_info < (3,):\n",
    "    data = pickle.load(f)\n",
    "else:\n",
    "    data = pickle.load(f, encoding='bytes')\n",
    "f.close()\n",
    "\n",
    "#(X_train, y_train), (X_val, y_val) = (None, None), (None, None)\n",
    "(X_train, y_train), (X_val,y_val) = data\n",
    "\n",
    "plt.figure(figsize=[6, 6])\n",
    "for i in range(4):\n",
    "    plt.subplot(2, 2, i + 1)\n",
    "    plt.title(\"Label: %i\" % y_train[i])\n",
    "    plt.imshow(X_train[i].reshape([28, 28]), cmap='gray');"
   ]
  },
  {
   "cell_type": "markdown",
   "metadata": {
    "id": "mfEUIcTtou7x"
   },
   "source": [
    "А вот так уже в почти приличном мире описывают сетки. Приличный мир будет в следующей дз. Здесь строится сетка - классификатор"
   ]
  },
  {
   "cell_type": "code",
   "execution_count": 89,
   "metadata": {},
   "outputs": [
    {
     "data": {
      "text/plain": [
       "(60000, 28, 28)"
      ]
     },
     "execution_count": 89,
     "metadata": {},
     "output_type": "execute_result"
    }
   ],
   "source": [
    "X_train.shape"
   ]
  },
  {
   "cell_type": "code",
   "execution_count": 90,
   "metadata": {
    "id": "cPDAygXbY8yQ",
    "outputId": "3dbe3b6e-1752-496b-be71-1de5e4c47c20"
   },
   "outputs": [],
   "source": [
    "# Higher-level API:\n",
    "import torch.nn as nn\n",
    "import torch.nn.functional as F\n",
    "\n",
    "class Net(nn.Module):\n",
    "    def __init__(self, hidden_size=40):\n",
    "        super(Net, self).__init__()\n",
    "        # создайте слои нейронки nn.Linear\n",
    "        self.fc1 = nn.Linear(784, hidden_size)# размером X_train.shape[1], hidden_size - входной слой\n",
    "        self.fc2 = nn.Linear(hidden_size, hidden_size) # hidden_size на hidden_size - скрытый слой\n",
    "        self.fc3 = nn.Linear(hidden_size, 10) # подумайте какой размер слоя должен быть на выходе\n",
    "\n",
    "    def forward(self, x):\n",
    "        # применяем ReLU к внутренним слоям\n",
    "        x = F.relu(self.fc1(x))\n",
    "        x = F.relu(self.fc2(x))\n",
    "        x = self.fc3(x)\n",
    "        return F.log_softmax(x, dim=-1)\n"
   ]
  },
  {
   "cell_type": "code",
   "execution_count": 91,
   "metadata": {
    "id": "BSuPd8FrY8yU",
    "outputId": "566c112b-60bc-459e-99b7-7f096a02c5e9",
    "scrolled": true
   },
   "outputs": [
    {
     "name": "stdout",
     "output_type": "stream",
     "text": [
      "Model outputs: \n",
      " tensor([[-7.2536e+00, -2.5926e+00, -7.2447e-01, -1.5820e+01, -1.3286e+01,\n",
      "         -2.0164e+01, -1.0754e+01, -1.6014e+01, -2.4121e+00, -1.0492e+00],\n",
      "        [-1.4785e+01, -3.5807e-02, -9.7445e+00, -1.3171e+01, -6.0454e+00,\n",
      "         -1.3595e+01, -5.7771e+00, -7.8198e+00, -7.6094e+00, -3.5492e+00],\n",
      "        [-9.0402e+00, -4.8363e-01, -9.8853e-01, -2.0860e+01, -1.6976e+01,\n",
      "         -2.5971e+01, -1.0712e+01, -1.5576e+01, -5.3969e+00, -5.0112e+00],\n",
      "        [-1.4789e+01, -1.0204e+00, -9.7893e-01, -1.4862e+00, -1.5644e+01,\n",
      "         -1.6814e+01, -5.1359e+00, -4.7477e+00, -1.2070e+01, -3.7706e+00],\n",
      "        [-1.0137e+01, -2.0639e+00, -1.6133e+00, -4.1778e+00, -1.1691e+01,\n",
      "         -1.6085e+01, -4.9340e+00, -8.7334e+00, -1.2180e+01, -4.2916e-01],\n",
      "        [-2.0735e+01, -3.1757e-03, -5.8374e+00, -1.9595e+01, -2.3503e+01,\n",
      "         -2.5022e+01, -8.2782e+00, -3.2041e+01, -2.2221e+01, -1.5430e+01],\n",
      "        [-2.7620e+01, -8.2618e+00, -7.2593e-02, -1.7163e+01, -2.4251e+01,\n",
      "         -2.3678e+01, -2.6627e+00, -2.6762e+01, -2.5651e+01, -1.5156e+01],\n",
      "        [-1.4193e+01, -4.4167e-01, -1.0318e+00, -1.2724e+01, -1.3214e+01,\n",
      "         -1.4804e+01, -1.1569e+01, -1.0301e+01, -1.1485e+01, -7.4125e+00],\n",
      "        [-2.6310e+01, -1.7881e-06, -1.7614e+01, -2.1734e+01, -2.6250e+01,\n",
      "         -3.3304e+01, -1.8542e+01, -1.3396e+01, -1.8168e+01, -1.5460e+01],\n",
      "        [-1.2065e+01, -3.0765e-02, -5.1035e+00, -4.9798e+00, -1.8909e+01,\n",
      "         -1.7205e+01, -1.3122e+01, -2.0518e+01, -1.6180e+01, -4.0549e+00]],\n",
      "       grad_fn=<LogSoftmaxBackward0>)\n",
      "Probs: \n",
      " tensor([[7.0761e-04, 7.4828e-02, 4.8458e-01, 1.3475e-07, 1.6977e-06, 1.7485e-09,\n",
      "         2.1360e-05, 1.1092e-07, 8.9630e-02, 3.5023e-01],\n",
      "        [3.7936e-07, 9.6483e-01, 5.8613e-05, 1.9047e-06, 2.3688e-03, 1.2472e-06,\n",
      "         3.0976e-03, 4.0171e-04, 4.9576e-04, 2.8747e-02],\n",
      "        [1.1854e-04, 6.1654e-01, 3.7212e-01, 8.7237e-10, 4.2398e-08, 5.2577e-12,\n",
      "         2.2273e-05, 1.7193e-07, 4.5305e-03, 6.6632e-03],\n",
      "        [3.7766e-07, 3.6047e-01, 3.7571e-01, 2.2622e-01, 1.6071e-07, 4.9883e-08,\n",
      "         5.8815e-03, 8.6717e-03, 5.7313e-06, 2.3038e-02],\n",
      "        [3.9599e-05, 1.2696e-01, 1.9924e-01, 1.5333e-02, 8.3655e-06, 1.0341e-07,\n",
      "         7.1980e-03, 1.6111e-04, 5.1323e-06, 6.5106e-01],\n",
      "        [9.8785e-10, 9.9683e-01, 2.9163e-03, 3.0913e-09, 6.2083e-11, 1.3587e-11,\n",
      "         2.5400e-04, 1.2154e-14, 2.2357e-10, 1.9893e-07],\n",
      "        [1.0115e-12, 2.5820e-04, 9.2998e-01, 3.5166e-08, 2.9373e-11, 5.2070e-11,\n",
      "         6.9762e-02, 2.3839e-12, 7.2435e-12, 2.6182e-07],\n",
      "        [6.8581e-07, 6.4296e-01, 3.5638e-01, 2.9788e-06, 1.8245e-06, 3.7220e-07,\n",
      "         9.4538e-06, 3.3591e-05, 1.0280e-05, 6.0367e-04],\n",
      "        [3.7476e-12, 1.0000e+00, 2.2398e-08, 3.6403e-10, 3.9796e-12, 3.4363e-15,\n",
      "         8.8584e-09, 1.5216e-06, 1.2873e-08, 1.9319e-07],\n",
      "        [5.7590e-06, 9.6970e-01, 6.0755e-03, 6.8753e-03, 6.1370e-09, 3.3741e-08,\n",
      "         2.0002e-06, 1.2279e-09, 9.4038e-08, 1.7338e-02]],\n",
      "       grad_fn=<SoftmaxBackward0>)\n",
      "Pred: \n",
      " [[2]\n",
      " [1]\n",
      " [1]\n",
      " [2]\n",
      " [9]\n",
      " [1]\n",
      " [2]\n",
      " [1]\n",
      " [1]\n",
      " [1]]\n",
      "Truth: \n",
      " [5 0 4 1 9 2 1 3 1 4]\n"
     ]
    }
   ],
   "source": [
    "# model interface:\n",
    "model = Net()\n",
    "tt = torch.from_numpy(X_train[-10:].reshape(10, -1).astype(np.float32))\n",
    "output = model(tt)\n",
    "\n",
    "print('Model outputs: \\n', output)\n",
    "probs = torch.softmax(output, dim=-1)\n",
    "print('Probs: \\n', probs)\n",
    "\n",
    "pred = torch.argmax(probs, dim=-1, keepdim=True)\n",
    "print('Pred: \\n', pred.data.numpy())\n",
    "print('Truth: \\n', y_train[:10])"
   ]
  },
  {
   "cell_type": "markdown",
   "metadata": {},
   "source": [
    "сделаем флаттенинг, изначально в дз почему-то ничего про это не сказано"
   ]
  },
  {
   "cell_type": "code",
   "execution_count": 92,
   "metadata": {},
   "outputs": [
    {
     "data": {
      "text/plain": [
       "(60000, 784)"
      ]
     },
     "execution_count": 92,
     "metadata": {},
     "output_type": "execute_result"
    }
   ],
   "source": [
    "X_train = X_train[::].reshape(X_train.shape[0], -1)\n",
    "X_train.shape"
   ]
  },
  {
   "cell_type": "code",
   "execution_count": 93,
   "metadata": {},
   "outputs": [
    {
     "data": {
      "text/plain": [
       "(10000, 784)"
      ]
     },
     "execution_count": 93,
     "metadata": {},
     "output_type": "execute_result"
    }
   ],
   "source": [
    "X_val = X_val[::].reshape(X_val.shape[0], -1)\n",
    "X_val.shape"
   ]
  },
  {
   "cell_type": "markdown",
   "metadata": {
    "id": "J9v9SIlDY8yZ"
   },
   "source": [
    "Тренировка сети\n",
    "\n",
    "Для тренировки сети нам требуется\n",
    "- итератор по данным\n",
    "- функция тренировки (прогон по данным, вычисление и применение градиентов)\n",
    "- функция валидации (прогон по тестовым данным, вычисление метрик)"
   ]
  },
  {
   "cell_type": "code",
   "execution_count": 94,
   "metadata": {
    "id": "rVfeDcF-Y8yc"
   },
   "outputs": [],
   "source": [
    "from IPython.display import clear_output\n",
    "from tqdm import trange\n",
    "\n",
    "# функция для итераций по минибатчам\n",
    "def iterate_minibatches(inputs, targets, batchsize, shuffle=False):\n",
    "    assert len(inputs) == len(targets)\n",
    "    if shuffle:\n",
    "        indices = np.random.permutation(len(inputs))\n",
    "    for start_idx in trange(0, len(inputs) - batchsize + 1, batchsize):\n",
    "        if shuffle:\n",
    "            excerpt = indices[start_idx:start_idx + batchsize]\n",
    "        else:\n",
    "            excerpt = slice(start_idx, start_idx + batchsize)\n",
    "        yield inputs[excerpt], targets[excerpt]"
   ]
  },
  {
   "cell_type": "markdown",
   "metadata": {
    "id": "V0nO3Ujnou7y"
   },
   "source": [
    "Обучаем также как и в случае линейной регрессии. Предсказываем результат по данным. Обучаем. В данном случае только функционал ошибки другой, не заморачивайтесь об этом. О вспомогательных функциях тоже не заморачивайтесь. Тут только надо знать что нейросети обучают батчами"
   ]
  },
  {
   "cell_type": "code",
   "execution_count": 95,
   "metadata": {},
   "outputs": [],
   "source": [
    "def convert(y_batch):\n",
    "    y_batch = y_batch.astype(np.int64)\n",
    "    new_batch = np.zeros((32, 10))\n",
    "    for i in range(32):\n",
    "        new_batch[i][y_batch[i]] = 1\n",
    "    y_batch = new_batch\n",
    "    return y_batch"
   ]
  },
  {
   "cell_type": "code",
   "execution_count": 96,
   "metadata": {
    "id": "qS8wn1JzY8yg"
   },
   "outputs": [],
   "source": [
    "def train(model, optimizer, batchsize=32):\n",
    "    loss_log = []\n",
    "    model.train()\n",
    "    for x_batch, y_batch in iterate_minibatches(X_train, y_train, batchsize=batchsize, shuffle=True):\n",
    "        # data preparation\n",
    "        #y_batch = convert(y_batch)\n",
    "        data = torch.from_numpy(x_batch.astype(np.float32))\n",
    "        target = torch.from_numpy(y_batch.astype(np.int64))\n",
    "\n",
    "        optimizer.zero_grad()\n",
    "        output = model(data)\n",
    "        loss = F.nll_loss(output, target)\n",
    "\n",
    "        loss.backward()\n",
    "        optimizer.step()\n",
    "\n",
    "        loss = loss.item()\n",
    "        loss_log.append(loss)\n",
    "    return loss_log\n",
    "\n",
    "\n",
    "def test(model):\n",
    "    loss_log = []\n",
    "    model.eval()\n",
    "    for x_batch, y_batch in iterate_minibatches(X_val, y_val, batchsize=batchsize, shuffle=True):\n",
    "        # data preparation\n",
    "        #y_batch = convert(y_batch)\n",
    "        data = torch.from_numpy(x_batch.astype(np.float32))\n",
    "        target = torch.from_numpy(y_batch.astype(np.int64))\n",
    "\n",
    "        output = model(data)\n",
    "        loss = F.nll_loss(output, target)\n",
    "        loss = loss.item()\n",
    "        loss_log.append(loss)\n",
    "    return loss_log\n"
   ]
  },
  {
   "cell_type": "code",
   "execution_count": 97,
   "metadata": {
    "id": "8vbRTCJmY8yk"
   },
   "outputs": [],
   "source": [
    "def plot_history(train_history, val_history, title='loss'):\n",
    "    clear_output(True)\n",
    "    step = len(train_history) / len(val_history)\n",
    "    plt.figure()\n",
    "    plt.axhline(0, color='gray')\n",
    "    plt.axvline(0, color='gray')\n",
    "    plt.plot(np.arange(len(train_history)), train_history, color='orange',zorder=1)\n",
    "    plt.scatter(np.arange(step, len(val_history) * step + step, step), val_history,zorder=2)\n",
    "    plt.show()"
   ]
  },
  {
   "cell_type": "code",
   "execution_count": 98,
   "metadata": {
    "id": "ZWEroE1_Y8yo",
    "outputId": "69fb3aae-3bfc-4ccc-9bd1-2ea71e825156"
   },
   "outputs": [
    {
     "data": {
      "image/png": "[encoded data removed]",
      "text/plain": [
       "<Figure size 432x288 with 1 Axes>"
      ]
     },
     "metadata": {
      "needs_background": "light"
     },
     "output_type": "display_data"
    }
   ],
   "source": [
    "train_log = []\n",
    "val_log = []\n",
    "\n",
    "model = Net()\n",
    "opt = torch.optim.RMSprop(model.parameters(), lr=0.001)\n",
    "batchsize = 32\n",
    "\n",
    "for epoch in range(10):\n",
    "    train_loss = train(model, opt, batchsize=batchsize)\n",
    "    train_log.extend(train_loss)\n",
    "\n",
    "    val_loss = np.mean(test(model))\n",
    "    val_log.append(val_loss)\n",
    "    plot_history(train_log, val_log)\n"
   ]
  },
  {
   "cell_type": "markdown",
   "metadata": {
    "id": "9gW6UzITY8yt"
   },
   "source": [
    "## Метрики\n",
    "\n",
    "Logloss -- величина, которую трудно интерпретировать.\n",
    "Для отслеживания тренировки и сравнения моделей удобнее наблюдать за интерпретируемыми метриками, например точностью (accuracy)\n",
    "\n"
   ]
  },
  {
   "cell_type": "code",
   "execution_count": 99,
   "metadata": {
    "id": "Aa9VK7d3Y8yv",
    "outputId": "82b2da4a-e3c7-44ca-f378-0e2de1b4afbd"
   },
   "outputs": [
    {
     "data": {
      "image/png": "[encoded data removed]",
      "text/plain": [
       "<Figure size 432x288 with 1 Axes>"
      ]
     },
     "metadata": {
      "needs_background": "light"
     },
     "output_type": "display_data"
    }
   ],
   "source": [
    "def train(model, optimizer, batchsize=32):\n",
    "    loss_log, acc_log = [], []\n",
    "    model.train()\n",
    "    for x_batch, y_batch in iterate_minibatches(X_train, y_train, batchsize=batchsize, shuffle=True):\n",
    "        # data preparation\n",
    "        #y_batch = convert(y_batch)\n",
    "        data = torch.from_numpy(x_batch.astype(np.float32))\n",
    "        target = torch.from_numpy(y_batch.astype(np.int64))\n",
    "\n",
    "        optimizer.zero_grad()\n",
    "        output = model(data)\n",
    "\n",
    "        loss = F.nll_loss(output, target)\n",
    "\n",
    "        loss.backward()\n",
    "        optimizer.step()\n",
    "\n",
    "        loss = loss.item()\n",
    "        loss_log.append(loss)\n",
    "\n",
    "        probs = torch.softmax(output, dim=-1)\n",
    "        pred = torch.argmax(probs, dim=-1, keepdim=True)\n",
    "        acc_log.append(np.mean(pred.detach().numpy().flatten() == y_batch))\n",
    "    return loss_log, acc_log\n",
    "\n",
    "\n",
    "def test(model):\n",
    "    loss_log, acc_log = [], []\n",
    "    model.eval()\n",
    "    for x_batch, y_batch in iterate_minibatches(X_val, y_val, batchsize=batchsize, shuffle=True):\n",
    "        # data preparation\n",
    "        #y_batch = convert(y_batch)\n",
    "        data = torch.from_numpy(x_batch.astype(np.float32))\n",
    "        target = torch.from_numpy(y_batch.astype(np.int64))\n",
    "\n",
    "        output = model(data)\n",
    "        loss = F.nll_loss(output, target)\n",
    "        loss = loss.item()\n",
    "        loss_log.append(loss)\n",
    "\n",
    "        probs = torch.softmax(output, dim=-1)\n",
    "        pred = torch.argmax(probs, dim=-1, keepdim=True)\n",
    "        acc_log.append(np.mean(pred.detach().numpy().flatten() == y_batch))\n",
    "    return loss_log, acc_log\n",
    "\n",
    "\n",
    "train_log, train_acc_log = [], []\n",
    "val_log, val_acc_log = [], []\n",
    "\n",
    "model = Net()\n",
    "opt = torch.optim.RMSprop(model.parameters(), lr=0.001)\n",
    "batchsize = 32\n",
    "\n",
    "\n",
    "train_log = []\n",
    "val_log = []\n",
    "\n",
    "model = Net()\n",
    "opt = torch.optim.RMSprop(model.parameters(), lr=0.001)\n",
    "batchsize = 32\n",
    "\n",
    "for epoch in range(10):\n",
    "    train_loss, train_acc = train(model, opt, batchsize=batchsize)\n",
    "    train_log.extend(train_acc)\n",
    "\n",
    "    val_loss, val_acc = test(model)\n",
    "    val_log.append(np.mean(val_acc))\n",
    "\n",
    "    plot_history(train_log, val_log, title = 'acc')\n"
   ]
  }
 ],
 "metadata": {
  "accelerator": "GPU",
  "colab": {
   "provenance": []
  },
  "hse_dl_year": 2019,
  "kernelspec": {
   "display_name": "Python 3 (ipykernel)",
   "language": "python",
   "name": "python3"
  },
  "language_info": {
   "codemirror_mode": {
    "name": "ipython",
    "version": 3
   },
   "file_extension": ".py",
   "mimetype": "text/x-python",
   "name": "python",
   "nbconvert_exporter": "python",
   "pygments_lexer": "ipython3",
   "version": "3.9.12"
  }
 },
 "nbformat": 4,
 "nbformat_minor": 1
}
